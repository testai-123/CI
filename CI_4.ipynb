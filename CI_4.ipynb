{
 "cells": [
  {
   "cell_type": "markdown",
   "id": "e7ad7496",
   "metadata": {},
   "source": [
    "Implement DEAP (Distributed Evolutionary Algorithms) using Python."
   ]
  },
  {
   "cell_type": "code",
   "execution_count": 1,
   "id": "6133bf90",
   "metadata": {},
   "outputs": [
    {
     "name": "stdout",
     "output_type": "stream",
     "text": [
      "Collecting deap\n",
      "  Downloading deap-1.4.2.tar.gz (1.1 MB)\n",
      "     ---------------------------------------- 0.0/1.1 MB ? eta -:--:--\n",
      "     ---------------------------------------- 0.0/1.1 MB ? eta -:--:--\n",
      "     ---------------------------------------- 0.0/1.1 MB ? eta -:--:--\n",
      "     ---------------------------------------- 0.0/1.1 MB ? eta -:--:--\n",
      "     --------- ------------------------------ 0.3/1.1 MB ? eta -:--:--\n",
      "     ------------------- -------------------- 0.5/1.1 MB 1.3 MB/s eta 0:00:01\n",
      "     ---------------------------------------- 1.1/1.1 MB 2.0 MB/s eta 0:00:00\n",
      "  Installing build dependencies: started\n",
      "  Installing build dependencies: finished with status 'done'\n",
      "  Getting requirements to build wheel: started\n",
      "  Getting requirements to build wheel: finished with status 'done'\n",
      "  Preparing metadata (pyproject.toml): started\n",
      "  Preparing metadata (pyproject.toml): finished with status 'done'\n",
      "Requirement already satisfied: numpy in c:\\users\\akamerkar\\appdata\\local\\programs\\python\\python39-32\\lib\\site-packages (from deap) (1.26.4)\n",
      "Building wheels for collected packages: deap\n",
      "  Building wheel for deap (pyproject.toml): started\n",
      "  Building wheel for deap (pyproject.toml): finished with status 'done'\n",
      "  Created wheel for deap: filename=deap-1.4.2-py3-none-any.whl size=97442 sha256=8388a0d6974d47549f487c910b0b5699e6a40d21c18f0598da107693d7efcf2d\n",
      "  Stored in directory: c:\\users\\akamerkar\\appdata\\local\\pip\\cache\\wheels\\7a\\36\\0b\\f084eb5096e524ac69c193ae79261731c4b3aa893214f77dc9\n",
      "Successfully built deap\n",
      "Installing collected packages: deap\n",
      "Successfully installed deap-1.4.2\n"
     ]
    }
   ],
   "source": [
    "!pip install deap"
   ]
  },
  {
   "cell_type": "code",
   "execution_count": 3,
   "id": "a246a0ad",
   "metadata": {},
   "outputs": [
    {
     "name": "stdout",
     "output_type": "stream",
     "text": [
      "Best Solution:  [2.862444366077647] Fitness:  3.646464270579163\n"
     ]
    }
   ],
   "source": [
    "from deap import base, creator, tools, algorithms\n",
    "import random\n",
    "import numpy as np\n",
    "import matplotlib.pyplot as plt\n",
    "\n",
    "# Define evaluation function\n",
    "def eval_func(individual):\n",
    "    x = individual[0]\n",
    "    return x * np.sin(10 * np.pi * x) + 1.0,\n",
    "\n",
    "# Problem setup\n",
    "creator.create(\"FitnessMax\", base.Fitness, weights=(1.0,))\n",
    "creator.create(\"Individual\", list, fitness=creator.FitnessMax)\n",
    "\n",
    "toolbox = base.Toolbox()\n",
    "toolbox.register(\"attr_float\", random.uniform, 0, 1)\n",
    "toolbox.register(\"individual\", tools.initRepeat, creator.Individual, toolbox.attr_float, 1)\n",
    "toolbox.register(\"population\", tools.initRepeat, list, toolbox.individual)\n",
    "\n",
    "toolbox.register(\"evaluate\", eval_func)\n",
    "toolbox.register(\"mate\", tools.cxBlend, alpha=0.5)\n",
    "toolbox.register(\"mutate\", tools.mutGaussian, mu=0, sigma=1, indpb=0.2)\n",
    "toolbox.register(\"select\", tools.selTournament, tournsize=3)\n",
    "\n",
    "# Run GA\n",
    "population = toolbox.population(n=50)\n",
    "NGEN = 40\n",
    "for gen in range(NGEN):\n",
    "    offspring = algorithms.varAnd(population, toolbox, cxpb=0.5, mutpb=0.2)\n",
    "    fits = list(map(toolbox.evaluate, offspring))\n",
    "    for fit, ind in zip(fits, offspring):\n",
    "        ind.fitness.values = fit\n",
    "    population = toolbox.select(offspring, k=len(population))\n",
    "\n",
    "top_individual = tools.selBest(population, k=1)[0]\n",
    "print(\"Best Solution: \", top_individual, \"Fitness: \", top_individual.fitness.values[0])\n"
   ]
  },
  {
   "cell_type": "code",
   "execution_count": null,
   "id": "0c2fce24",
   "metadata": {},
   "outputs": [],
   "source": []
  }
 ],
 "metadata": {
  "kernelspec": {
   "display_name": "Python 3",
   "language": "python",
   "name": "python3"
  },
  "language_info": {
   "codemirror_mode": {
    "name": "ipython",
    "version": 3
   },
   "file_extension": ".py",
   "mimetype": "text/x-python",
   "name": "python",
   "nbconvert_exporter": "python",
   "pygments_lexer": "ipython3",
   "version": "3.11.9"
  }
 },
 "nbformat": 4,
 "nbformat_minor": 5
}
