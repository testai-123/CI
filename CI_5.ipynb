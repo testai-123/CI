{
 "cells": [
  {
   "cell_type": "markdown",
   "id": "174fd1ad",
   "metadata": {},
   "source": [
    "To apply the artificial immune pattern recognition to perform a task of structure damage\n",
    "Classification."
   ]
  },
  {
   "cell_type": "code",
   "execution_count": 1,
   "id": "a4e71bc3",
   "metadata": {},
   "outputs": [
    {
     "name": "stdout",
     "output_type": "stream",
     "text": [
      "Accuracy: 0.8666666666666667\n"
     ]
    }
   ],
   "source": [
    "import numpy as np\n",
    "from sklearn.datasets import make_classification\n",
    "from sklearn.model_selection import train_test_split\n",
    "from sklearn.metrics import accuracy_score\n",
    "import random\n",
    "\n",
    "# Generate sample structural damage dataset\n",
    "X, y = make_classification(n_samples=200, n_features=5, n_informative=3, \n",
    "                           n_redundant=0, n_classes=2, random_state=42)\n",
    "\n",
    "# Split data\n",
    "X_train, X_test, y_train, y_test = train_test_split(X, y, test_size=0.3)\n",
    "\n",
    "# Define simple Clonal Selection Algorithm\n",
    "def affinity(a, b):\n",
    "    return np.linalg.norm(np.array(a) - np.array(b))\n",
    "\n",
    "def clone_and_mutate(antibody, rate=0.1):\n",
    "    return [gene + random.uniform(-rate, rate) for gene in antibody]\n",
    "\n",
    "def train_ais(X_train, y_train, n_clones=5):\n",
    "    memory_set = []\n",
    "    for idx, antigen in enumerate(X_train):\n",
    "        label = y_train[idx]\n",
    "        antibody = antigen.copy()\n",
    "        clones = [clone_and_mutate(antibody) for _ in range(n_clones)]\n",
    "        best_clone = min(clones, key=lambda x: affinity(x, antigen))\n",
    "        memory_set.append((best_clone, label))\n",
    "    return memory_set\n",
    "\n",
    "def predict_ais(memory_set, X_test):\n",
    "    predictions = []\n",
    "    for antigen in X_test:\n",
    "        dists = [affinity(antigen, mem[0]) for mem in memory_set]\n",
    "        nearest = memory_set[np.argmin(dists)]\n",
    "        predictions.append(nearest[1])\n",
    "    return predictions\n",
    "\n",
    "# Train and predict\n",
    "memory = train_ais(X_train, y_train)\n",
    "y_pred = predict_ais(memory, X_test)\n",
    "\n",
    "print(\"Accuracy:\", accuracy_score(y_test, y_pred))\n"
   ]
  },
  {
   "cell_type": "code",
   "execution_count": null,
   "id": "e29fc0c3",
   "metadata": {},
   "outputs": [],
   "source": []
  }
 ],
 "metadata": {
  "kernelspec": {
   "display_name": "Python 3 (ipykernel)",
   "language": "python",
   "name": "python3"
  },
  "language_info": {
   "codemirror_mode": {
    "name": "ipython",
    "version": 3
   },
   "file_extension": ".py",
   "mimetype": "text/x-python",
   "name": "python",
   "nbconvert_exporter": "python",
   "pygments_lexer": "ipython3",
   "version": "3.11.5"
  }
 },
 "nbformat": 4,
 "nbformat_minor": 5
}
