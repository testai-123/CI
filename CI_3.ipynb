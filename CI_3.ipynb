{
 "cells": [
  {
   "cell_type": "code",
   "execution_count": null,
   "id": "0ab5ab56",
   "metadata": {},
   "outputs": [],
   "source": [
    "!pip install numpy"
   ]
  },
  {
   "cell_type": "code",
   "execution_count": null,
   "id": "0edcedef",
   "metadata": {},
   "outputs": [],
   "source": [
    "import numpy as np\n",
    "\n",
    "def initialize_population(size, dimension):\n",
    "    return np.random.rand(size, dimension)\n",
    "\n",
    "def evaluate_fitness(population, target_function):\n",
    "    return np.array([target_function(ind) for ind in population])\n",
    "\n",
    "def select_top_clones(population, fitness, num_clones):\n",
    "    sorted_indices = np.argsort(fitness)\n",
    "    return population[sorted_indices[:num_clones]]\n",
    "\n",
    "def mutate_clones(clones, mutation_rate):\n",
    "    mutations = np.random.normal(0, mutation_rate, clones.shape)\n",
    "    return clones + mutations\n",
    "\n",
    "def clonal_selection_algorithm(target_function, population_size=50, clone_size=10, mutation_rate=0.1, generations=100):\n",
    "    dimension = 2  # Example for 2D optimization\n",
    "    population = initialize_population(population_size, dimension)\n",
    "    \n",
    "    for _ in range(generations):\n",
    "        fitness = evaluate_fitness(population, target_function)\n",
    "        clones = select_top_clones(population, fitness, clone_size)\n",
    "        mutated_clones = mutate_clones(clones, mutation_rate)\n",
    "        \n",
    "        population[:clone_size] = mutated_clones  # Replace worst with best clones\n",
    "    \n",
    "    best_index = np.argmin(evaluate_fitness(population, target_function))\n",
    "    return population[best_index]\n",
    "\n",
    "# Example target function (minimizing distance to [0, 0])\n",
    "def target_function(ind):\n",
    "    return np.sum(ind**2)\n",
    "\n",
    "best_solution = clonal_selection_algorithm(target_function)\n",
    "print(\"Best solution found:\", best_solution)\n"
   ]
  }
 ],
 "metadata": {
  "language_info": {
   "name": "python"
  }
 },
 "nbformat": 4,
 "nbformat_minor": 5
}
