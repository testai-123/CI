{
 "cells": [
  {
   "cell_type": "markdown",
   "id": "1cf09337-3e20-4eb1-ade2-1bb6f86493ea",
   "metadata": {},
   "source": [
    "<h1><center><b>Computer Laboratory III : Computational Intelligence Assignment - 2</b></center></h1>\n"
   ]
  },
  {
   "cell_type": "markdown",
   "id": "7a5e75df-2c74-4baf-a9e2-99cdb4cfaebf",
   "metadata": {},
   "source": [
    "## ------------------------------------------------------------------------------------------------------------"
   ]
  },
  {
   "cell_type": "markdown",
   "id": "1232b477-7c67-49cb-b499-a578a4c796ec",
   "metadata": {},
   "source": [
    "### **Problem Statement:**\n",
    "Optimization of genetic algorithm parameter in hybrid genetic algorithm-neural network\n",
    "modelling: Application to spray drying of coconut milk.\n"
   ]
  },
  {
   "cell_type": "markdown",
   "id": "8b007efb-8a87-4440-8c36-9f4f991079ab",
   "metadata": {},
   "source": [
    "## ------------------------------------------------------------------------------------------------------------"
   ]
  },
  {
   "cell_type": "markdown",
   "id": "dfdf75d2-0493-4ed7-af7d-4d5322f95172",
   "metadata": {},
   "source": [
    "#### **Importing Libraries**"
   ]
  },
  {
   "cell_type": "code",
   "execution_count": 1,
   "id": "42a33b78-642a-4b68-9f96-157ea3fa1f08",
   "metadata": {},
   "outputs": [],
   "source": [
    "import numpy as np\n",
    "from sklearn.neural_network import MLPRegressor\n",
    "from deap import base, creator, tools, algorithms\n",
    "\n"
   ]
  },
  {
   "cell_type": "markdown",
   "id": "49a02b86-e775-474a-a3ad-ed0399a11a24",
   "metadata": {},
   "source": [
    "## ------------------------------------------------------------------------------------------------------------"
   ]
  },
  {
   "cell_type": "markdown",
   "id": "e5db6f6d-4295-48e2-8f3d-98afb8907d6c",
   "metadata": {},
   "source": [
    "#### **Step 1: Defining Neural Network Model**"
   ]
  },
  {
   "cell_type": "code",
   "execution_count": 9,
   "id": "a619c7f0-f3de-41d8-8786-bd4194b43aca",
   "metadata": {},
   "outputs": [],
   "source": [
    "def create_nn_model(X_train, y_train):\n",
    "    model = MLPRegressor(hidden_layer_sizes=(10, 10), max_iter=1000, random_state=42)\n",
    "    model.fit(X_train, y_train)\n",
    "    return model"
   ]
  },
  {
   "cell_type": "markdown",
   "id": "60c8f10c-9cb5-497a-8871-487a68898dc2",
   "metadata": {},
   "source": [
    "## ------------------------------------------------------------------------------------------------------------"
   ]
  },
  {
   "cell_type": "markdown",
   "id": "7ff61f63-c9cd-4cce-9704-c1433f7c5179",
   "metadata": {},
   "source": [
    "#### **Step 2: Defining Fitness Function for GA**"
   ]
  },
  {
   "cell_type": "code",
   "execution_count": 4,
   "id": "995963ea-2540-4a6d-ac38-2978f3cb3b18",
   "metadata": {},
   "outputs": [],
   "source": [
    "def evaluate(individual):\n",
    "    inlet_temp, feed_flow, atomization_pressure = individual\n",
    "    predicted_output = nn_model.predict([[inlet_temp, feed_flow, atomization_pressure]])\n",
    "    fitness = predicted_output[0]\n",
    "    return fitness,\n",
    "\n"
   ]
  },
  {
   "cell_type": "markdown",
   "id": "b0c12619-c92b-4740-8c62-98701ca607fb",
   "metadata": {},
   "source": [
    "## ------------------------------------------------------------------------------------------------------------"
   ]
  },
  {
   "cell_type": "markdown",
   "id": "da2976b4-e7bd-48db-b693-9ea55d2099ff",
   "metadata": {},
   "source": [
    "#### **Step 3: Setting up GA**"
   ]
  },
  {
   "cell_type": "code",
   "execution_count": 5,
   "id": "9dc28aae-419f-4127-b8c6-d1439dab0814",
   "metadata": {},
   "outputs": [],
   "source": [
    "creator.create(\"FitnessMax\", base.Fitness, weights=(1.0,))\n",
    "creator.create(\"Individual\", list, fitness=creator.FitnessMax)\n",
    "\n",
    "toolbox = base.Toolbox()\n",
    "toolbox.register(\"attr_float\", np.random.uniform, 100, 200)  # Inlet temperature range\n",
    "toolbox.register(\"attr_flow\", np.random.uniform, 10, 50)     # Feed flow rate range\n",
    "toolbox.register(\"attr_pressure\", np.random.uniform, 1, 5)   # Atomization pressure range\n",
    "toolbox.register(\"individual\", tools.initCycle, creator.Individual,\n",
    "                 (toolbox.attr_float, toolbox.attr_flow, toolbox.attr_pressure), n=1)\n",
    "toolbox.register(\"population\", tools.initRepeat, list, toolbox.individual)\n",
    "\n",
    "toolbox.register(\"evaluate\", evaluate)\n",
    "toolbox.register(\"mate\", tools.cxBlend, alpha=0.5)\n",
    "toolbox.register(\"mutate\", tools.mutGaussian, mu=0, sigma=1, indpb=0.2)\n",
    "toolbox.register(\"select\", tools.selTournament, tournsize=3)\n",
    "\n"
   ]
  },
  {
   "cell_type": "markdown",
   "id": "1ce1f4fb-cc10-4224-9fc3-453fd08c5e8f",
   "metadata": {},
   "source": [
    "## ------------------------------------------------------------------------------------------------------------"
   ]
  },
  {
   "cell_type": "markdown",
   "id": "b125ff30-cca1-43f8-ba17-5f2e66325f07",
   "metadata": {},
   "source": [
    "#### **Step 4: Training Sample Data**"
   ]
  },
  {
   "cell_type": "code",
   "execution_count": 6,
   "id": "630c2286-753d-4f92-ad81-b16c9228926b",
   "metadata": {},
   "outputs": [],
   "source": [
    "X_train = np.array([[150, 30, 3], [160, 35, 4], [170, 40, 2]]) \n",
    "y_train = np.array([0.85, 0.90, 0.80]) \n",
    "nn_model = create_nn_model(X_train, y_train)\n",
    "\n"
   ]
  },
  {
   "cell_type": "markdown",
   "id": "3ce7871d-a42d-43a0-b55e-b365f903e581",
   "metadata": {},
   "source": [
    "## ------------------------------------------------------------------------------------------------------------"
   ]
  },
  {
   "cell_type": "markdown",
   "id": "c41a6e45-c545-47c6-9f29-8dd7cb664280",
   "metadata": {},
   "source": [
    "#### **Step 5: Running Genetic Algorithm**"
   ]
  },
  {
   "cell_type": "code",
   "execution_count": 7,
   "id": "c6d88176-ffd2-441d-8fe5-0a0c584c0009",
   "metadata": {},
   "outputs": [
    {
     "name": "stdout",
     "output_type": "stream",
     "text": [
      "gen\tnevals\n",
      "0  \t50    \n",
      "1  \t35    \n",
      "2  \t41    \n",
      "3  \t39    \n",
      "4  \t41    \n",
      "5  \t34    \n",
      "6  \t41    \n",
      "7  \t36    \n",
      "8  \t41    \n",
      "9  \t39    \n",
      "10 \t38    \n",
      "11 \t30    \n",
      "12 \t40    \n",
      "13 \t43    \n",
      "14 \t41    \n",
      "15 \t34    \n",
      "16 \t43    \n",
      "17 \t39    \n",
      "18 \t37    \n",
      "19 \t40    \n",
      "20 \t42    \n",
      "21 \t42    \n",
      "22 \t36    \n",
      "23 \t43    \n",
      "24 \t39    \n",
      "25 \t36    \n",
      "26 \t35    \n",
      "27 \t39    \n",
      "28 \t41    \n",
      "29 \t36    \n",
      "30 \t38    \n",
      "31 \t37    \n",
      "32 \t35    \n",
      "33 \t37    \n",
      "34 \t38    \n",
      "35 \t39    \n",
      "36 \t37    \n",
      "37 \t39    \n",
      "38 \t30    \n",
      "39 \t38    \n",
      "40 \t38    \n"
     ]
    },
    {
     "data": {
      "text/plain": [
       "([[259.17549970259097, -10.723881664773943, -40.85642517996574],\n",
       "  [258.8520779287888, -5.872078119420235, -40.7823396309528],\n",
       "  [254.3166302771292, -10.356391960152381, -39.811588673277775],\n",
       "  [259.40769638841635, -9.223066650303375, -38.531598597649584],\n",
       "  [259.5796791643992, -9.770617237377365, -40.86158930210097],\n",
       "  [259.5796791643992, -9.770617237377365, -40.86158930210097],\n",
       "  [261.42712178559754, -10.148043122829812, -38.89267878249608],\n",
       "  [260.12197370025893, -10.049343845333976, -39.858855582957105],\n",
       "  [250.5282779265452, -10.158892906404489, -39.27830117175625],\n",
       "  [255.88038865162235, -10.759271057537521, -42.036823463404104],\n",
       "  [258.36266193290794, -9.469851151860913, -38.80248784831768],\n",
       "  [260.12197370025893, -10.049343845333976, -39.858855582957105],\n",
       "  [256.23733999560835, -10.754381449322151, -39.7273738850002],\n",
       "  [248.49378262870388, -10.96746352752842, -39.43834890502085],\n",
       "  [253.65371089585076, -10.630598181738476, -40.49825656949528],\n",
       "  [254.90810599066344, -10.302701306056091, -40.10124490269128],\n",
       "  [258.36266193290794, -9.469851151860913, -38.80248784831768],\n",
       "  [258.36266193290794, -9.469851151860913, -38.80248784831768],\n",
       "  [260.6644623035142, -10.373473423325152, -41.25341521683167],\n",
       "  [250.98936532701475, -9.968427145261654, -40.06819775773348],\n",
       "  [256.83588464634136, -9.990352324567256, -40.786285705326236],\n",
       "  [255.5063753312328, -9.982022192650456, -39.747908334997014],\n",
       "  [261.66589966255805, -9.56387153446146, -38.70076586594391],\n",
       "  [260.68177455309063, -10.16780033236083, -40.002699125227565],\n",
       "  [260.12197370025893, -10.049343845333976, -39.858855582957105],\n",
       "  [258.36266193290794, -9.469851151860913, -38.80248784831768],\n",
       "  [254.5774826305326, -10.265835077698078, -40.288777713900366],\n",
       "  [258.36266193290794, -9.469851151860913, -38.80248784831768],\n",
       "  [261.42712178559754, -10.148043122829812, -38.89267878249608],\n",
       "  [258.36266193290794, -9.469851151860913, -38.80248784831768],\n",
       "  [251.15029592488227, -10.098873070419511, -40.15816738551795],\n",
       "  [261.42712178559754, -10.148043122829812, -38.89267878249608],\n",
       "  [254.65209532788737, -7.21948981205941, -40.44156947091722],\n",
       "  [251.59890636074732, -10.543034173706697, -40.734750919528395],\n",
       "  [258.49653905150694, -6.846718964654206, -40.10049355535622],\n",
       "  [260.87191184552483, -10.494085153442494, -40.48746816213674],\n",
       "  [252.9625631209872, -9.590275805199736, -40.3268281886167],\n",
       "  [258.6618960003068, -9.83396454739578, -40.951356935515925],\n",
       "  [261.42712178559754, -10.148043122829812, -38.89267878249608],\n",
       "  [261.42712178559754, -10.148043122829812, -38.89267878249608],\n",
       "  [258.6104072271066, -7.660229319237472, -40.22587943556694],\n",
       "  [260.71305937540126, -9.362006716774097, -39.88181624175002],\n",
       "  [255.11977716639234, -10.544561685654688, -40.42277347027381],\n",
       "  [261.42712178559754, -10.148043122829812, -38.89267878249608],\n",
       "  [251.57705245403244, -9.021617585636125, -40.544924341188796],\n",
       "  [263.8761811875944, -9.65516513627886, -40.10888865934409],\n",
       "  [260.9263275141701, -9.16356785428085, -39.15563701404773],\n",
       "  [259.0861867563385, -9.935457355022276, -41.12624008996759],\n",
       "  [251.35425380486086, -10.033048928232914, -39.868700850084295],\n",
       "  [261.2014466348126, -9.133453104084738, -39.788584923166425]],\n",
       " [{'gen': 0, 'nevals': 50},\n",
       "  {'gen': 1, 'nevals': 35},\n",
       "  {'gen': 2, 'nevals': 41},\n",
       "  {'gen': 3, 'nevals': 39},\n",
       "  {'gen': 4, 'nevals': 41},\n",
       "  {'gen': 5, 'nevals': 34},\n",
       "  {'gen': 6, 'nevals': 41},\n",
       "  {'gen': 7, 'nevals': 36},\n",
       "  {'gen': 8, 'nevals': 41},\n",
       "  {'gen': 9, 'nevals': 39},\n",
       "  {'gen': 10, 'nevals': 38},\n",
       "  {'gen': 11, 'nevals': 30},\n",
       "  {'gen': 12, 'nevals': 40},\n",
       "  {'gen': 13, 'nevals': 43},\n",
       "  {'gen': 14, 'nevals': 41},\n",
       "  {'gen': 15, 'nevals': 34},\n",
       "  {'gen': 16, 'nevals': 43},\n",
       "  {'gen': 17, 'nevals': 39},\n",
       "  {'gen': 18, 'nevals': 37},\n",
       "  {'gen': 19, 'nevals': 40},\n",
       "  {'gen': 20, 'nevals': 42},\n",
       "  {'gen': 21, 'nevals': 42},\n",
       "  {'gen': 22, 'nevals': 36},\n",
       "  {'gen': 23, 'nevals': 43},\n",
       "  {'gen': 24, 'nevals': 39},\n",
       "  {'gen': 25, 'nevals': 36},\n",
       "  {'gen': 26, 'nevals': 35},\n",
       "  {'gen': 27, 'nevals': 39},\n",
       "  {'gen': 28, 'nevals': 41},\n",
       "  {'gen': 29, 'nevals': 36},\n",
       "  {'gen': 30, 'nevals': 38},\n",
       "  {'gen': 31, 'nevals': 37},\n",
       "  {'gen': 32, 'nevals': 35},\n",
       "  {'gen': 33, 'nevals': 37},\n",
       "  {'gen': 34, 'nevals': 38},\n",
       "  {'gen': 35, 'nevals': 39},\n",
       "  {'gen': 36, 'nevals': 37},\n",
       "  {'gen': 37, 'nevals': 39},\n",
       "  {'gen': 38, 'nevals': 30},\n",
       "  {'gen': 39, 'nevals': 38},\n",
       "  {'gen': 40, 'nevals': 38}])"
      ]
     },
     "execution_count": 7,
     "metadata": {},
     "output_type": "execute_result"
    }
   ],
   "source": [
    "population = toolbox.population(n=50)\n",
    "ngen, cxpb, mutpb = 40, 0.7, 0.2\n",
    "algorithms.eaSimple(population, toolbox, cxpb, mutpb, ngen, verbose=True)"
   ]
  },
  {
   "cell_type": "markdown",
   "id": "8854f8c1-abf4-4d93-a002-56f8eb89b3dd",
   "metadata": {},
   "source": [
    "## ------------------------------------------------------------------------------------------------------------"
   ]
  },
  {
   "cell_type": "markdown",
   "id": "7c76c79e-46f0-4919-b394-c1672f6c842d",
   "metadata": {},
   "source": [
    "#### **Step 6: Extracting Best Solution**"
   ]
  },
  {
   "cell_type": "code",
   "execution_count": 10,
   "id": "f6015deb-af77-4766-84e2-fd3030502b7c",
   "metadata": {},
   "outputs": [
    {
     "name": "stdout",
     "output_type": "stream",
     "text": [
      "Best Parameters: [260.6644623035142, -10.373473423325152, -41.25341521683167]\n",
      "Predicted Powder Yield: 61.54318532759542\n"
     ]
    }
   ],
   "source": [
    "best_individual = tools.selBest(population, k=1)[0]\n",
    "print(\"Best Parameters:\", best_individual)\n",
    "print(\"Predicted Powder Yield:\", evaluate(best_individual)[0])"
   ]
  },
  {
   "cell_type": "markdown",
   "id": "cbe9d2ea-4474-46f1-ace8-e41d80c547d0",
   "metadata": {},
   "source": [
    "## ------------------------------------------------------------------------------------------------------------"
   ]
  }
 ],
 "metadata": {
  "kernelspec": {
   "display_name": "Python 3 (ipykernel)",
   "language": "python",
   "name": "python3"
  },
  "language_info": {
   "codemirror_mode": {
    "name": "ipython",
    "version": 3
   },
   "file_extension": ".py",
   "mimetype": "text/x-python",
   "name": "python",
   "nbconvert_exporter": "python",
   "pygments_lexer": "ipython3",
   "version": "3.11.7"
  }
 },
 "nbformat": 4,
 "nbformat_minor": 5
}
