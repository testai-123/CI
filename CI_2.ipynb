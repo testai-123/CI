{
 "cells": [
  {
   "cell_type": "code",
   "execution_count": null,
   "id": "42a33b78-642a-4b68-9f96-157ea3fa1f08",
   "metadata": {},
   "outputs": [],
   "source": [
    "!pip install numpy\n",
    "!pip install scikit-learn\n",
    "!pip install deap\n",
    "\n",
    "\n",
    "import numpy as np\n",
    "from sklearn.neural_network import MLPRegressor\n",
    "from deap import base, creator, tools, algorithms\n",
    "\n",
    "\n",
    "def create_nn_model(X_train, y_train):\n",
    "    model = MLPRegressor(hidden_layer_sizes=(10, 10), max_iter=1000, random_state=42)\n",
    "    model.fit(X_train, y_train)\n",
    "    return model\n",
    "\n",
    "def evaluate(individual):\n",
    "    inlet_temp, feed_flow, atomization_pressure = individual\n",
    "    predicted_output = nn_model.predict([[inlet_temp, feed_flow, atomization_pressure]])\n",
    "    fitness = predicted_output[0]\n",
    "    return fitness,\n",
    "\n",
    "\n",
    "creator.create(\"FitnessMax\", base.Fitness, weights=(1.0,))\n",
    "creator.create(\"Individual\", list, fitness=creator.FitnessMax)\n",
    "\n",
    "toolbox = base.Toolbox()\n",
    "toolbox.register(\"attr_float\", np.random.uniform, 100, 200)  # Inlet temperature range\n",
    "toolbox.register(\"attr_flow\", np.random.uniform, 10, 50)     # Feed flow rate range\n",
    "toolbox.register(\"attr_pressure\", np.random.uniform, 1, 5)   # Atomization pressure range\n",
    "toolbox.register(\"individual\", tools.initCycle, creator.Individual,\n",
    "                 (toolbox.attr_float, toolbox.attr_flow, toolbox.attr_pressure), n=1)\n",
    "toolbox.register(\"population\", tools.initRepeat, list, toolbox.individual)\n",
    "\n",
    "toolbox.register(\"evaluate\", evaluate)\n",
    "toolbox.register(\"mate\", tools.cxBlend, alpha=0.5)\n",
    "toolbox.register(\"mutate\", tools.mutGaussian, mu=0, sigma=1, indpb=0.2)\n",
    "toolbox.register(\"select\", tools.selTournament, tournsize=3)\n",
    "\n",
    "\n",
    "X_train = np.array([[150, 30, 3], [160, 35, 4], [170, 40, 2]]) \n",
    "y_train = np.array([0.85, 0.90, 0.80]) \n",
    "nn_model = create_nn_model(X_train, y_train)\n",
    "\n",
    "\n",
    "population = toolbox.population(n=50)\n",
    "ngen, cxpb, mutpb = 40, 0.7, 0.2\n",
    "algorithms.eaSimple(population, toolbox, cxpb, mutpb, ngen, verbose=True)\n",
    "\n",
    "best_individual = tools.selBest(population, k=1)[0]\n",
    "print(\"Best Parameters:\", best_individual)\n",
    "print(\"Predicted Powder Yield:\", evaluate(best_individual)[0])"
   ]
  }
 ],
 "metadata": {
  "kernelspec": {
   "display_name": "Python 3",
   "language": "python",
   "name": "python3"
  },
  "language_info": {
   "codemirror_mode": {
    "name": "ipython",
    "version": 3
   },
   "file_extension": ".py",
   "mimetype": "text/x-python",
   "name": "python",
   "nbconvert_exporter": "python",
   "pygments_lexer": "ipython3",
   "version": "3.12.1"
  }
 },
 "nbformat": 4,
 "nbformat_minor": 5
}
