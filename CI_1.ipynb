{
 "cells": [
  {
   "cell_type": "code",
   "execution_count": null,
   "id": "d4b3a12e",
   "metadata": {},
   "outputs": [
    {
     "name": "stdout",
     "output_type": "stream",
     "text": [
      "Fuzzy Set Union is : {'a': 0.9, 'b': 0.9, 'c': 0.6, 'd': 0.6}\n"
     ]
    }
   ],
   "source": [
    "A = {\"a\": 0.2, \"b\": 0.3, \"c\": 0.6, \"d\": 0.6}\n",
    "B = {\"a\": 0.9, \"b\": 0.9, \"c\": 0.4, \"d\": 0.5}\n",
    "\n",
    "Y = {}\n",
    "\n",
    "for key in A:\n",
    "    Y[key] = max(A[key], B[key])\n",
    "\n",
    "print('Fuzzy Set Union is:', Y)\n"
   ]
  },
  {
   "cell_type": "code",
   "execution_count": null,
   "id": "1f888bec",
   "metadata": {},
   "outputs": [
    {
     "name": "stdout",
     "output_type": "stream",
     "text": [
      "Fuzzy Set Intersection is : {'a': 0.2, 'b': 0.3, 'c': 0.4, 'd': 0.5}\n"
     ]
    }
   ],
   "source": [
    "A = {\"a\": 0.2, \"b\": 0.3, \"c\": 0.6, \"d\": 0.6}\n",
    "B = {\"a\": 0.9, \"b\": 0.9, \"c\": 0.4, \"d\": 0.5}\n",
    "\n",
    "Y = {}\n",
    "\n",
    "for key in A:\n",
    "    Y[key] = min(A[key], B[key])\n",
    "\n",
    "print('Fuzzy Set Intersection is:', Y)\n"
   ]
  },
  {
   "cell_type": "code",
   "execution_count": null,
   "id": "9d206de5",
   "metadata": {},
   "outputs": [
    {
     "name": "stdout",
     "output_type": "stream",
     "text": [
      "Fuzzy Set Complement is : {'a': 0.8, 'b': 0.7, 'c': 0.4, 'd': 0.4}\n"
     ]
    }
   ],
   "source": [
    "#COMPLEMENT\n",
    "for A_key in A:\n",
    "    Y[A_key]= 1-A[A_key]\n",
    "         \n",
    "print('Fuzzy Set Complement is :', Y)"
   ]
  },
  {
   "cell_type": "code",
   "execution_count": null,
   "id": "4a222787",
   "metadata": {},
   "outputs": [
    {
     "name": "stdout",
     "output_type": "stream",
     "text": [
      "Fuzzy Set Difference is : {'a': 0.09999999999999998, 'b': 0.09999999999999998, 'c': 0.6, 'd': 0.5}\n"
     ]
    }
   ],
   "source": [
    "A = {\"a\": 0.2, \"b\": 0.3, \"c\": 0.6, \"d\": 0.6}\n",
    "B = {\"a\": 0.9, \"b\": 0.9, \"c\": 0.4, \"d\": 0.5}\n",
    "\n",
    "Y = {}\n",
    "\n",
    "for key in A:\n",
    "    B_complement = 1 - B[key]  \n",
    "    Y[key] = min(A[key], B_complement)  \n",
    "\n",
    "print('Fuzzy Set Difference is:', Y)\n",
    "\n"
   ]
  },
  {
   "cell_type": "code",
   "execution_count": null,
   "id": "91ba53c6",
   "metadata": {},
   "outputs": [
    {
     "name": "stdout",
     "output_type": "stream",
     "text": [
      "Cartesian product: [[0.2 0.2 0.2 0.2]\n",
      " [0.3 0.3 0.3 0.3]\n",
      " [0.6 0.6 0.4 0.5]\n",
      " [0.6 0.6 0.4 0.5]]\n"
     ]
    }
   ],
   "source": [
    "A = {\"a\": 0.2, \"b\": 0.3, \"c\": 0.6, \"d\": 0.6}\n",
    "B = {\"x\": 0.9, \"y\": 0.9, \"z\": 0.4}\n",
    "\n",
    "cartesian_product = {}\n",
    "\n",
    "for key_A in A:\n",
    "    for key_B in B:\n",
    "        cartesian_product[(key_A, key_B)] = min(A[key_A], B[key_B])\n",
    "\n",
    "print('Fuzzy Set Cartesian Product is:', cartesian_product)\n"
   ]
  },
  {
   "cell_type": "code",
   "execution_count": 2,
   "id": "9435294f",
   "metadata": {},
   "outputs": [
    {
     "name": "stdout",
     "output_type": "stream",
     "text": [
      "Max-Min Composition Result:\n",
      "[[0.4 0.4 0.1]\n",
      " [0.3 0.5 0.1]\n",
      " [0.4 0.4 0.1]]\n"
     ]
    }
   ],
   "source": [
    "#MAX MIN COMPOSITION\n",
    "\n",
    "import numpy as np\n",
    "\n",
    "def max_min_composition(R1, R2):\n",
    "    result = np.zeros((len(R1), len(R2[0])))\n",
    "    for i in range(len(R1)):\n",
    "        for j in range(len(R2[0])):\n",
    "            max_min = 0\n",
    "            for k in range(len(R1[0])):\n",
    "                max_min = max(min(R1[i][k], R2[k][j]), max_min)\n",
    "            result[i][j] = max_min\n",
    "    \n",
    "    result = np.clip(result, 0, 1)\n",
    "    return result\n",
    "\n",
    "\n",
    "R1 = np.array([[0.3, 0.4, 0.7], [0.3, 0.5, 0], [0.4, 0.4, 1]])\n",
    "R2 = np.array([[0.3, 0.3, 0], [0.3, 0.5, 0.1], [0.4, 0.4, 0]])\n",
    "result = max_min_composition(R1, R2)\n",
    "print(\"Max-Min Composition Result:\")\n",
    "print(result)"
   ]
  },
  {
   "cell_type": "code",
   "execution_count": 1,
   "id": "f72d8f72",
   "metadata": {},
   "outputs": [
    {
     "name": "stdout",
     "output_type": "stream",
     "text": [
      "Min-Max Composition: {'a': {'p': 0.7, 'q': 0.6}, 'b': {'p': 0.5, 'q': 0.7}}\n"
     ]
    }
   ],
   "source": [
    "# Define fuzzy relations R (A → B) and S (B → C)\n",
    "R = {\n",
    "    \"a\": {\"x\": 0.7, \"y\": 0.5},\n",
    "    \"b\": {\"x\": 0.4, \"y\": 0.9}\n",
    "}\n",
    "\n",
    "S = {\n",
    "    \"x\": {\"p\": 0.8, \"q\": 0.6},\n",
    "    \"y\": {\"p\": 0.5, \"q\": 0.7}\n",
    "}\n",
    "\n",
    "# Compute Min-Max Composition\n",
    "result = {}\n",
    "\n",
    "for a in R:  # Iterate over rows of R\n",
    "    result[a] = {}\n",
    "    for c in S[\"x\"]:  # Iterate over columns of S\n",
    "        result[a][c] = max(min(R[a][b], S[b][c]) for b in R[a])\n",
    "\n",
    "# Print result\n",
    "print(\"Min-Max Composition:\", result)\n"
   ]
  },
  {
   "cell_type": "code",
   "execution_count": null,
   "id": "22fa7769",
   "metadata": {},
   "outputs": [],
   "source": []
  }
 ],
 "metadata": {
  "kernelspec": {
   "display_name": "Python 3",
   "language": "python",
   "name": "python3"
  },
  "language_info": {
   "codemirror_mode": {
    "name": "ipython",
    "version": 3
   },
   "file_extension": ".py",
   "mimetype": "text/x-python",
   "name": "python",
   "nbconvert_exporter": "python",
   "pygments_lexer": "ipython3",
   "version": "3.11.9"
  }
 },
 "nbformat": 4,
 "nbformat_minor": 5
}
